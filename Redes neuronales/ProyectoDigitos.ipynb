{
 "cells": [
  {
   "cell_type": "markdown",
   "metadata": {},
   "source": [
    "# Proyecto de Reconocimiento Dígitos \n",
    "## Con Redes Neuronales Convolutivas\n",
    "\n",
    "![CIC IPN](https://th.bing.com/th/id/R.d7c4342f0c034ea4f25db1dd8cfd7df6?rik=ksoCSLNKbEjicA&riu=http%3a%2f%2fcittecam.org.mx%2fwp-content%2fuploads%2f2016%2f10%2fcic.jpg&ehk=NZh78qyIYMEqvWNeceBAkwe9MrgYS6gvpiLWVnZecWc%3d&risl=&pid=ImgRaw&r=0)\n",
    "\n",
    "> **Curso de Machine Learning (Julio 2023)** \n",
    ">\n",
    "> Profesor: [Alan Badillo Salas](mailto:alan@nomadacode.com)\n",
    ">\n",
    "> Github: [https://github.com/dragonnomada/ml-2023](https://github.com/dragonnomada/ml-2023)\n",
    ">"
   ]
  },
  {
   "cell_type": "markdown",
   "metadata": {},
   "source": [
    "## Contenido\n",
    "\n",
    "* **Fase 1** - Adquisición de las imágenes de aprendizaje de MNIST\n",
    "* **Fase 2** - Visualización de los dígitos escritos a mano de entrenamiento\n",
    "* **Fase 3** - Construcción de la red neuronal para el aprendizaje\n",
    "* **Fase 4** - Visualización de los dígitos escritos a mano de prueba\n",
    "* **Fase 5** - Creación de una matriz que representa un dígito escrito a mano\n",
    "* **Fase 6** - Crear una aplicación para dibujar dígitos escritos a mano y reconocerlos"
   ]
  },
  {
   "cell_type": "markdown",
   "metadata": {},
   "source": [
    "## Introducción\n",
    "\n",
    "El auge de la Inteligencia Artificial ha sido gracias a la popularidad que han tenido las redes neuronales dentro del sector empresarial y científico. Su popularización ha puesto en manifiesto la necesidad de dominar dicho campo para incorporarlo en estudios científicos de alto impacto, así como también en el desarrollo tecnológico que mejore la calidad de vida humana y guie su desarrollo a una mejor era.\n",
    "\n",
    "Dentro de las redes neuronales artificiales, podemos encontrar distintos enfoques e implementaciones que permiten resolver una inmensa cantidad de problemas. Por ejemplo, problemas genéricos, en dónde una entrada detetermina una salida y esta es aprendida por una red neuronal artificial (ANN - Artificial Neural Network).\n",
    "\n",
    "En el campo de la inteligencia artificial se ha desarrollado un subcampo llamado *aprendizaje profundo*, basado en perfeccionar las redes neuronales en dos problemas principales:\n",
    "\n",
    "* `Reconocimiento de Textos` - Por ejemplo, *CHAT GPT* que es capaz de analizar el lenguaje natural y generar una conversación fluida con los usuarios, superando pruebas rigurosas como resolver exámenes médicos y matemáticos.\n",
    "* `Procesamiento de Imágenes` - Por ejemplo, *DALL-E* que es capaz de generar imágenes a partir de texto, identificando los elementos dentro de la foto y adaptándolos a lo que se le solicita.\n",
    "\n",
    "Estas dos tareas han sido posibles gracias a las redes neuronales recurrentes (RNN - Recurrent Neural Network) y las redes neuronales convolutivas (CNN - Convolutional Neural Network).\n",
    "\n",
    "En este proyecto usaremos las redes neuronales convolutivas (CNN) para poder entrenar un modelo capaz de **aprender a reconocer dígitos escritos a mano**, para así generar una aplicación de escritorio que nos permita dibujar un dígito y reconocerlo.\n",
    "\n",
    "Este proyecto es parte del **Curso de Machine Learning** del *Centro de Investigación en Computación* del *Instituto Politécnico Nacional* de *México*, impartido por el matemático *Alan Badillo Salas*.\n",
    "\n",
    "El material generado en estas notas utiliza la librería de [*Keras*](https://keras.io) de [*Tensorflow*](https://www.tensorflow.org/) y sigue la guía de ejemplo para entrenar un modelo usando redes neuronales convolucionales descrita en: [https://keras.io/examples/vision/mnist_convnet/](https://keras.io/examples/vision/mnist_convnet/).\n",
    "\n",
    "El código para la aplicación de escritorio utiliza la librería de [*Tkinter*](https://docs.python.org/3/library/tkinter.html) la cual permite generar aplicaciones simples para python y crear un *canvas* de dibujo. El código es autoría del instructor y cedido al *Instito Politécnico Nacional* para fines educativos."
   ]
  },
  {
   "cell_type": "markdown",
   "metadata": {},
   "source": [
    "## **Fase 1** - Adquisición de las imágenes de aprendizaje de MNIST"
   ]
  },
  {
   "cell_type": "markdown",
   "metadata": {},
   "source": [
    "`MNIST` es un conjunto de 70,000 imágenes de dígitos escritos a mano de tamaño 28x28 pixeles, que se encuentra disponible en [http://yann.lecun.com/exdb/mnist/](http://yann.lecun.com/exdb/mnist/) y es parte de los conjuntos de datos oficiales de *Keras*, por lo que puede ser cargado directamente desde `keras.datasets`.\n",
    "\n",
    "Las imágenes están divididas en 60,000 de entrenamiento y 10,000 de pruenbas, asociadas a sus etiquetas correctas."
   ]
  },
  {
   "cell_type": "markdown",
   "metadata": {},
   "source": [
    "### Instalamos la librería de *Tensorflow*"
   ]
  },
  {
   "cell_type": "code",
   "execution_count": 1,
   "metadata": {},
   "outputs": [],
   "source": [
    "# ! pip install tensorflow"
   ]
  },
  {
   "cell_type": "markdown",
   "metadata": {},
   "source": [
    "### Importamos las imágenes de *MNIST* como matrices de entrenamiento y pruebas"
   ]
  },
  {
   "cell_type": "code",
   "execution_count": 2,
   "metadata": {},
   "outputs": [
    {
     "name": "stderr",
     "output_type": "stream",
     "text": [
      "2023-07-15 17:34:00.437823: I tensorflow/tsl/cuda/cudart_stub.cc:28] Could not find cuda drivers on your machine, GPU will not be used.\n",
      "2023-07-15 17:34:01.189152: I tensorflow/tsl/cuda/cudart_stub.cc:28] Could not find cuda drivers on your machine, GPU will not be used.\n",
      "2023-07-15 17:34:01.191735: I tensorflow/core/platform/cpu_feature_guard.cc:182] This TensorFlow binary is optimized to use available CPU instructions in performance-critical operations.\n",
      "To enable the following instructions: AVX2 FMA, in other operations, rebuild TensorFlow with the appropriate compiler flags.\n",
      "2023-07-15 17:34:03.154378: W tensorflow/compiler/tf2tensorrt/utils/py_utils.cc:38] TF-TRT Warning: Could not find TensorRT\n"
     ]
    }
   ],
   "source": [
    "from keras.datasets import mnist\n",
    "\n",
    "(X_train, Y_train), (X_test, Y_test) = mnist.load_data()"
   ]
  },
  {
   "cell_type": "markdown",
   "metadata": {},
   "source": [
    "La dimensión que tendrá la matriz de entrenamiento `X_train` es de *60,000* imágenes de 28x28 pixeles, representada por una matriz de 60,000x28x28.\n",
    "\n",
    "El vector objetivo de entrenamiento `Y_train` tendrá una dimensión de *60,000*, dónde cada entrada será un entero entre `0` y `9` representando el dígito que se debe aprender."
   ]
  },
  {
   "cell_type": "code",
   "execution_count": 3,
   "metadata": {},
   "outputs": [
    {
     "name": "stdout",
     "output_type": "stream",
     "text": [
      "X_train: (60000, 28, 28)\n",
      "Y_train: (60000,)\n"
     ]
    }
   ],
   "source": [
    "print(\"X_train:\", X_train.shape) # 60,000x28x28 (3-dimensiones)\n",
    "print(\"Y_train:\", Y_train.shape) # 60,000       (1-dimensión)"
   ]
  },
  {
   "cell_type": "markdown",
   "metadata": {},
   "source": [
    "## **Fase 2** - Visualización de los dígitos escritos a mano de entrenamiento"
   ]
  },
  {
   "cell_type": "markdown",
   "metadata": {},
   "source": [
    "## Seleccionamos la primer imágen de entrenamiento para su visualización\n",
    "\n",
    "Podemos seleccionar una imagen de entrenamiento, de la matriz de `X_train` con algún índice entre `0` y `59,999`, por ejemplo, `X_train[499]` representará la *500-va* imagen de entrenamiento, devolviendo una matriz de `28x28`."
   ]
  },
  {
   "cell_type": "code",
   "execution_count": 4,
   "metadata": {},
   "outputs": [
    {
     "name": "stdout",
     "output_type": "stream",
     "text": [
      "x:  (28, 28)\n",
      "y_0 =  5\n"
     ]
    },
    {
     "data": {
      "image/png": "[encoded data removed]",
      "text/plain": [
       "<Figure size 640x480 with 1 Axes>"
      ]
     },
     "metadata": {},
     "output_type": "display_data"
    }
   ],
   "source": [
    "# Recuperamos la imagen de entrenamiento con índice 0\n",
    "# Esta está representada como una matriz de 28x28 con valores entre 0 y 255\n",
    "x = X_train[0]\n",
    "\n",
    "print(\"x: \", x.shape)    # (28, 28)\n",
    "\n",
    "# Mostramos el valor del objetivo asociado al índice 0\n",
    "# Está representado por un número entero entre 0 y 9\n",
    "print(\"y_0 = \", Y_train[0]) # 5\n",
    "\n",
    "# Importamos la librería de Matplotlib para dibujar la matriz `x`\n",
    "import matplotlib.pyplot as plt\n",
    "\n",
    "# Mostramos la matriz `x` en forma forma de imagen, usando escala de grises \n",
    "plt.imshow(x, cmap=plt.get_cmap('gray'))\n",
    "\n",
    "# Pinta el resultado\n",
    "plt.show()"
   ]
  },
  {
   "cell_type": "markdown",
   "metadata": {},
   "source": [
    "## **Fase 3** - Construcción de la red neuronal para el aprendizaje"
   ]
  },
  {
   "cell_type": "markdown",
   "metadata": {},
   "source": [
    "### Preparamos los datos de entrenamiento para la red neuronal\n",
    "\n",
    "Antes de crear la red neuronal, necesitamos establecer cómo será la entrada de la red neuronal, en este caso una matriz de `28x28x1`, esto con el fin de aprender 28x28 dimensiones en 1 entrada singular.\n",
    "\n",
    "Esto es requerido así por la red neuronal convolutiva, ya que tomará cada imagen como el **input** directo de la red neuronal, y debemos adaptar las dimensiones de `28x28 -> 28x28x1`."
   ]
  },
  {
   "cell_type": "code",
   "execution_count": 5,
   "metadata": {},
   "outputs": [
    {
     "name": "stdout",
     "output_type": "stream",
     "text": [
      "X_train shape: (60000, 28, 28)\n",
      "x_train shape: (60000, 28, 28, 1)\n",
      "Y_train: (60000,)\n",
      "Y_test: (10000,)\n",
      "y_train: (60000, 10)\n",
      "y_test: (10000, 10)\n"
     ]
    }
   ],
   "source": [
    "# Importamos Keras y Numpy\n",
    "import keras\n",
    "import numpy as np\n",
    "\n",
    "# Definimos cuántas clases de aprendizaje habrán\n",
    "# Con el fin de poder codificar las clases categóricas a arreglos esparcidos (sparse vector)\n",
    "# Por ejemplo, si la categoría es 5, haría la transformación:\n",
    "# 5 -> [0, 0, 0, 0, 0, 1, 0, 0, 0, 0]\n",
    "# Indicando que está activa la categoría 5, en lugar de manejar un número escalar entero\n",
    "# Entonces la red neuronal aprenderá si una matriz de [... 28x28x1 ...] produce un vector de [... 10 ...]\n",
    "# Donde el vector 1, si se activa la categoría o 0 si no lo hace.\n",
    "num_classes = 10\n",
    "\n",
    "# Definimos la dimensión de entrada, es decir, la red neuronal espera una matriz de 28x28x1\n",
    "input_shape = (28, 28, 1)\n",
    "\n",
    "# Corregimos las matrices de entrenamiento y pruebas X_train y X_test\n",
    "# Para que en lugar de tener valores entre 0 y 255, tengan valores entre 0 y 1\n",
    "# Y además ponemos un tipo de dato ligero como flotante a 32 bits\n",
    "x_train = X_train.astype(\"float32\") / 255\n",
    "x_test = X_test.astype(\"float32\") / 255\n",
    "\n",
    "# Corregimos la dimensión de las matrices de entrenamiento y pruebas x_train y x_test \n",
    "# De una dimensión de (28, 28) a una dimensión de (28, 28, 1)\n",
    "# con la finalidad que esta matriz pueda ingresar a la matriz según el `input_shape` definido\n",
    "x_train = np.expand_dims(x_train, -1)\n",
    "x_test = np.expand_dims(x_test, -1)\n",
    "\n",
    "print(\"X_train shape:\", X_train.shape) # (60000, 28, 28)\n",
    "print(\"x_train shape:\", x_train.shape) # (60000, 28, 28, 1)\n",
    "\n",
    "# Convetimos el vector Y_train de 60,000 valores objetivos a 60,000x10 objetivos\n",
    "# Cada valor de `y` ahora será un vector de 10 entradas, dónde será 1 si se activa la categoría\n",
    "# Por ejemplo, si  y = 4 -> [0, 0, 0, 0, 1, 0, 0, 0, 0, 0]\n",
    "y_train = keras.utils.to_categorical(Y_train, num_classes)\n",
    "y_test = keras.utils.to_categorical(Y_test, num_classes)\n",
    "\n",
    "print(\"Y_train:\", Y_train.shape)\n",
    "print(\"Y_test:\", Y_test.shape)\n",
    "print(\"y_train:\", y_train.shape)\n",
    "print(\"y_test:\", y_test.shape)"
   ]
  },
  {
   "cell_type": "markdown",
   "metadata": {},
   "source": [
    "## Definimos el modelo de la Red Neuronal Convolutiva de Keras"
   ]
  },
  {
   "cell_type": "markdown",
   "metadata": {},
   "source": [
    "La red neuronal cpnvolutiva (CNN - Convolutional Neural Network), es capaz de tomar entradas matriciales, como imágenes completas, para permitir a través de una serie de capaz enlazadas, formar piscinas de **kernels** que reconozcan sub-partes específicas en la matriz (imagen), y puedan aprender a reconocer estas sub-partes.\n",
    "\n",
    "Podemos imaginar los `kernel` como fragmentos codificados con las principales características que se encuentran en una región, por ejemplo, un pedazo de ojo, un pedazo de oreja, un pedazo de dígito, etc. Así, la red neuronal es capaz de identificar si estos trozos de información están presente y cuáles son los más representativos para tomar la decisión de que cierta imagen de entrada pertenece a cierta categoría. \n",
    "\n",
    "Por ejemplo, si la imagen posee un pedazo de dígito redondeado a la derecha podría ser un `8` o `0`, pero si a parte tiene una pequeña protuberancia podría ser `9` quizás."
   ]
  },
  {
   "cell_type": "code",
   "execution_count": 6,
   "metadata": {},
   "outputs": [
    {
     "name": "stdout",
     "output_type": "stream",
     "text": [
      "Model: \"sequential\"\n",
      "_________________________________________________________________\n",
      " Layer (type)                Output Shape              Param #   \n",
      "=================================================================\n",
      " conv2d (Conv2D)             (None, 26, 26, 32)        320       \n",
      "                                                                 \n",
      " max_pooling2d (MaxPooling2  (None, 13, 13, 32)        0         \n",
      " D)                                                              \n",
      "                                                                 \n",
      " conv2d_1 (Conv2D)           (None, 11, 11, 64)        18496     \n",
      "                                                                 \n",
      " max_pooling2d_1 (MaxPoolin  (None, 5, 5, 64)          0         \n",
      " g2D)                                                            \n",
      "                                                                 \n",
      " flatten (Flatten)           (None, 1600)              0         \n",
      "                                                                 \n",
      " dropout (Dropout)           (None, 1600)              0         \n",
      "                                                                 \n",
      " dense (Dense)               (None, 10)                16010     \n",
      "                                                                 \n",
      "=================================================================\n",
      "Total params: 34826 (136.04 KB)\n",
      "Trainable params: 34826 (136.04 KB)\n",
      "Non-trainable params: 0 (0.00 Byte)\n",
      "_________________________________________________________________\n"
     ]
    },
    {
     "name": "stderr",
     "output_type": "stream",
     "text": [
      "2023-07-15 17:34:08.365349: I tensorflow/compiler/xla/stream_executor/cuda/cuda_gpu_executor.cc:995] successful NUMA node read from SysFS had negative value (-1), but there must be at least one NUMA node, so returning NUMA node zero. See more at https://github.com/torvalds/linux/blob/v6.0/Documentation/ABI/testing/sysfs-bus-pci#L344-L355\n",
      "2023-07-15 17:34:08.366508: W tensorflow/core/common_runtime/gpu/gpu_device.cc:1960] Cannot dlopen some GPU libraries. Please make sure the missing libraries mentioned above are installed properly if you would like to use GPU. Follow the guide at https://www.tensorflow.org/install/gpu for how to download and setup the required libraries for your platform.\n",
      "Skipping registering GPU devices...\n"
     ]
    }
   ],
   "source": [
    "# Importamos las capas de Keras, en este caso usaremos una capa Conv2D en lugar de una capa Densa\n",
    "# como lo haríamos en una red neuronal artificial genérica (ANN)\n",
    "from keras import layers\n",
    "\n",
    "# Construimos el modelo como una secuencia de capas que tomarán la entrada y su salida la conectarán\n",
    "# a la siguiente capa.\n",
    "model = keras.Sequential(\n",
    "    [\n",
    "        # La primera capa siempre es la capa de entrada, en este caso\n",
    "        # la capa está diseñada para recibir muestras de `28x28x1` según el `input_shape`\n",
    "        keras.Input(shape=input_shape),\n",
    "        # La segunda capa será una capa convolucional 2D, \n",
    "        # con la función de activación ReLU (rectificador lineal)\n",
    "        # con 32 neuronas organizadas con kernels de 3x3 (regiones de aprendizaje)\n",
    "        layers.Conv2D(32, kernel_size=(3, 3), activation=\"relu\"),\n",
    "        # La siguiente capa será una piscina 2D con subregiones de 2x2 (filtrado)\n",
    "        layers.MaxPooling2D(pool_size=(2, 2)),\n",
    "        # La siguiente capa repite una capa convolucional 2D,\n",
    "        # con la función de activación ReLU (rectificador lineal)\n",
    "        # tomando ahora 64 neuronas de con kernels de 3x3 (regiones de aprendizaje)\n",
    "        layers.Conv2D(64, kernel_size=(3, 3), activation=\"relu\"),\n",
    "        # La siguiente capa repite una piscina 2D con subregiones de 2x2 (filtrado)\n",
    "        layers.MaxPooling2D(pool_size=(2, 2)),\n",
    "        # La siguiente capa aplanará la salida anterior para transformarla en un arreglo lineal\n",
    "        layers.Flatten(),\n",
    "        # La siguiente capa definirá pequeñas variaciones y resetos aleatorio \n",
    "        # a las entradas para evitar un sobre ajuste,\n",
    "        # esto significa que bajo la razón de 0.5 (50%) hará algunos reseteos aleatorios \n",
    "        # y variaciones sobre la salida anterior (la entrada siguiente), para evitar\n",
    "        # que la red neuronal se sobreajuste a los valores de entrenamiento\n",
    "        # y simular variaciones aleatorias en los datos de aprendizaje\n",
    "        layers.Dropout(0.5),\n",
    "        # La última capa es una capa Densa (del tipo ANN) que aprenderá\n",
    "        # que la salida anterior (la de la capa aplana con variaciones y reseteos aleatorios)\n",
    "        # deberá convertirse en `10` salidas, cada una representando si se activa o no\n",
    "        # una clase, por lo que la función de activación será `SoftMax` (Máximo suavizado)\n",
    "        layers.Dense(num_classes, activation=\"softmax\"),\n",
    "    ]\n",
    ")\n",
    "\n",
    "# Mostramos el resumen del modelo\n",
    "# Para observar cuántos parámetros tiene que ajustar al final \n",
    "# (34,826 pesos necesita ajustar)\n",
    "model.summary()"
   ]
  },
  {
   "cell_type": "markdown",
   "metadata": {},
   "source": [
    "### Entrenamos el modelo (la red neuronal convolutiva) en varias épocas y lotes\n",
    "\n",
    "El entrenamiento se da en épocas (por ejemplo `4`), en las que en cada época se busca aprender un lote aleatorio de muestras de entrenamiento (por ejemplo `128`), entonces se formarán lotes aleatorios de las 60,000 imágenes de entrenamiento y se aplicarán los lotes varias veces por época.\n",
    "\n",
    "Esto producirá que la red neuronal vaya siendo cada vez más precisa hasta llegar a su precisión final.\n",
    "\n",
    "En nuestro caso cada época entrena `422` lotes de `128` muestras (aprende `54,016` imágenes por época).\n",
    "\n",
    "Llegando a una exactitud téorica de `0.9782` (`97.82%`).\n",
    "\n",
    "Con 15 épocas logra `99%` de precisión, pero tarda mucho más en entrenarse y consume bastante `CPU`."
   ]
  },
  {
   "cell_type": "code",
   "execution_count": 7,
   "metadata": {},
   "outputs": [
    {
     "name": "stdout",
     "output_type": "stream",
     "text": [
      "Epoch 1/4\n",
      "422/422 [==============================] - 10s 21ms/step - loss: 0.3678 - accuracy: 0.8864 - val_loss: 0.0796 - val_accuracy: 0.9802\n",
      "Epoch 2/4\n",
      "422/422 [==============================] - 8s 20ms/step - loss: 0.1118 - accuracy: 0.9659 - val_loss: 0.0584 - val_accuracy: 0.9833\n",
      "Epoch 3/4\n",
      "422/422 [==============================] - 8s 20ms/step - loss: 0.0864 - accuracy: 0.9729 - val_loss: 0.0526 - val_accuracy: 0.9855\n",
      "Epoch 4/4\n",
      "422/422 [==============================] - 8s 19ms/step - loss: 0.0729 - accuracy: 0.9776 - val_loss: 0.0443 - val_accuracy: 0.9883\n"
     ]
    },
    {
     "data": {
      "text/plain": [
       "<keras.src.callbacks.History at 0x7f1a300ba5c0>"
      ]
     },
     "execution_count": 7,
     "metadata": {},
     "output_type": "execute_result"
    }
   ],
   "source": [
    "\n",
    "# Definimos el número de épocas que repetiremos el aprendizaje\n",
    "epochs = 4\n",
    "# Definimos el tamaño de los lotes de muestras\n",
    "batch_size = 128\n",
    "\n",
    "# Compilamos el modelo utilizando el optimizador `ADAM` con la\n",
    "# función que mide la pérdida entre la salida esperada y la resultante\n",
    "# llamada `CATEGORIAL CROSS ENTROPY`\n",
    "# Y establece mostrar las métricas de precisión/exactitud\n",
    "model.compile(loss=\"categorical_crossentropy\", optimizer=\"adam\", metrics=[\"accuracy\"])\n",
    "\n",
    "# Entrenamos el modelo con las matrices de entrenamiento\n",
    "# x_train (60000, 28, 28, 1)\n",
    "# y_train (60000, 10)\n",
    "model.fit(x_train, y_train, batch_size=batch_size, epochs=epochs, validation_split=0.1)"
   ]
  },
  {
   "cell_type": "markdown",
   "metadata": {},
   "source": [
    "### Calculamos la precisión del modelo usando las muestras de pruebas\n",
    "\n",
    "Para validar que tan bien clasifica el modelo, usamos los datos de entrenamiento, que contienen 1,000 imágenes que reservamos para las pruebas.\n",
    "\n",
    "Esto determinará cuántas muestras de pruebas estuvieron bien clasificadas, obteniendo un `98.7%` de presición (bastante bueno para un entrenamiento con solo `4` épocas de entrenamiento)."
   ]
  },
  {
   "cell_type": "code",
   "execution_count": 8,
   "metadata": {},
   "outputs": [
    {
     "name": "stdout",
     "output_type": "stream",
     "text": [
      "Pérdida (loss): 0.03800810128450394\n",
      "Precisión (accuracy): 0.9883000254631042\n"
     ]
    }
   ],
   "source": [
    "# Obtenemos las puntuaciones de pérdida (loss) y precisión (accuracy) \n",
    "score = model.evaluate(x_test, y_test, verbose=0)\n",
    "\n",
    "# Mostramos los resultados\n",
    "print(\"Pérdida (loss):\", score[0])\n",
    "print(\"Precisión (accuracy):\", score[1])"
   ]
  },
  {
   "cell_type": "markdown",
   "metadata": {},
   "source": [
    "## Guardamos el modelo y sus pesos ya entrenados para no perderlos\n",
    "\n",
    "Podemos guardar el modelo y sus pesos para recuperarlos en cualquier momento y usar la red neuronal para predecir muestras, sin tener que hacer el entrenamiento nuevamente."
   ]
  },
  {
   "cell_type": "code",
   "execution_count": 9,
   "metadata": {},
   "outputs": [
    {
     "name": "stdout",
     "output_type": "stream",
     "text": [
      "INFO:tensorflow:Assets written to: digits_net_model/assets\n"
     ]
    },
    {
     "name": "stderr",
     "output_type": "stream",
     "text": [
      "INFO:tensorflow:Assets written to: digits_net_model/assets\n"
     ]
    }
   ],
   "source": [
    "# Guardamos la información del modelo (ligero - ocupa poca memoria)\n",
    "model.save(\"digits_net_model\")\n",
    "# Guardamos la información de los pesos entrenados (pesado - ocupa mucha memoria)\n",
    "model.save_weights(\"digit_net_weights\")"
   ]
  },
  {
   "cell_type": "markdown",
   "metadata": {},
   "source": [
    "### Recuperamos el modelo guardado para garantizar que funcione\n",
    "\n",
    "Validamos que el modelo guardado sea capaz de predecir nuevamente las muestras de pruebas"
   ]
  },
  {
   "cell_type": "code",
   "execution_count": 10,
   "metadata": {},
   "outputs": [
    {
     "name": "stdout",
     "output_type": "stream",
     "text": [
      "Model: \"sequential\"\n",
      "_________________________________________________________________\n",
      " Layer (type)                Output Shape              Param #   \n",
      "=================================================================\n",
      " conv2d (Conv2D)             (None, 26, 26, 32)        320       \n",
      "                                                                 \n",
      " max_pooling2d (MaxPooling2  (None, 13, 13, 32)        0         \n",
      " D)                                                              \n",
      "                                                                 \n",
      " conv2d_1 (Conv2D)           (None, 11, 11, 64)        18496     \n",
      "                                                                 \n",
      " max_pooling2d_1 (MaxPoolin  (None, 5, 5, 64)          0         \n",
      " g2D)                                                            \n",
      "                                                                 \n",
      " flatten (Flatten)           (None, 1600)              0         \n",
      "                                                                 \n",
      " dropout (Dropout)           (None, 1600)              0         \n",
      "                                                                 \n",
      " dense (Dense)               (None, 10)                16010     \n",
      "                                                                 \n",
      "=================================================================\n",
      "Total params: 34826 (136.04 KB)\n",
      "Trainable params: 34826 (136.04 KB)\n",
      "Non-trainable params: 0 (0.00 Byte)\n",
      "_________________________________________________________________\n",
      "Pérdida (loss): 0.03800810128450394\n",
      "Precisión (accuracy): 0.9883000254631042\n"
     ]
    }
   ],
   "source": [
    "# Cargamos el modelo de la red neuronal convolutiva (CNN) almacenada\n",
    "model2 = keras.models.load_model(\"digits_net_model\")\n",
    "\n",
    "model2.summary()\n",
    "\n",
    "# Cargamos los pesos de entrenamiento que guardamos (los pesos tras el entrenamiento)\n",
    "model2.load_weights(\"digit_net_weights\")\n",
    "\n",
    "# Ahora este modelo debería funcionar igual que el original\n",
    "score = model2.evaluate(x_test, y_test, verbose=0)\n",
    "\n",
    "# NOTA: Ahora podemos cerrar todo y ejecutar desde aquí ya sin hacer el entrenamiento nunca más\n",
    "\n",
    "# Mostramos los resultados\n",
    "print(\"Pérdida (loss):\", score[0])\n",
    "print(\"Precisión (accuracy):\", score[1])"
   ]
  },
  {
   "cell_type": "markdown",
   "metadata": {},
   "source": [
    "## **Fase 4** - Visualización de los dígitos escritos a mano de prueba"
   ]
  },
  {
   "cell_type": "markdown",
   "metadata": {},
   "source": [
    "### Predecir si un dígito de pruebas fue bien clasificado/predicho\n",
    "\n",
    "Vamos a seleccionar el primer dígito de pruebas (la primera imagen), para que la red neuronal determine/prediga qué digito es."
   ]
  },
  {
   "cell_type": "code",
   "execution_count": 11,
   "metadata": {},
   "outputs": [
    {
     "name": "stdout",
     "output_type": "stream",
     "text": [
      "(28, 28)\n"
     ]
    },
    {
     "data": {
      "image/png": "[encoded data removed]",
      "text/plain": [
       "<Figure size 640x480 with 1 Axes>"
      ]
     },
     "metadata": {},
     "output_type": "display_data"
    },
    {
     "name": "stdout",
     "output_type": "stream",
     "text": [
      "(28, 28, 1)\n",
      "1/1 [==============================] - 0s 62ms/step\n",
      "Dígito encontrado       => 7\n",
      "Dígito real (esparcido) => [0. 0. 0. 0. 0. 0. 0. 1. 0. 0.]\n",
      "Dígito real (numérico)  => 7\n"
     ]
    }
   ],
   "source": [
    "# Recuperamos la primera imagen en su representación matricial de 28x28\n",
    "x = X_test[0]\n",
    "\n",
    "print(x.shape) # (28, 28)\n",
    "\n",
    "# Mostramos la imagen del dígito en escala de grises\n",
    "plt.imshow(x, cmap=plt.get_cmap('gray'))\n",
    "plt.show()\n",
    "\n",
    "# Transformamos la imagen en valores de 0 a 1 para dárselos a la red neuronal\n",
    "# haciendo también la expansión de dimensión de 28x28 -> 28x28x1\n",
    "xi = np.expand_dims(x.astype(\"float32\") / 255, -1)\n",
    "\n",
    "print(xi.shape) # (28, 28, 1)\n",
    "\n",
    "# Creamos una matriz con una sola muestra para hacer la predicción\n",
    "x_predict = np.array([xi])\n",
    "\n",
    "# Obtenemos el vector de tamaño 10, dónde el más cercano a 1 será la categoría predicha\n",
    "# Por ejemplo, si y_predict = [0, 0, 0, 0, 0, 0, 0, 1, 0, 0], significará que la categoría es 7 \n",
    "y_predict = model2.predict(x_predict)\n",
    "\n",
    "# Recuperamos el argumento máximo para pasar el vector de 10 ceros y unos\n",
    "# a un número escalar con el índice del máximo valor\n",
    "digit = np.argmax(y_predict, axis=None, out=None)\n",
    "\n",
    "\n",
    "print(\"Dígito encontrado       =>\", digit)\n",
    "print(\"Dígito real (esparcido) =>\", y_test[0])\n",
    "print(\"Dígito real (numérico)  =>\", Y_test[0])"
   ]
  },
  {
   "cell_type": "markdown",
   "metadata": {},
   "source": [
    "## **Fase 5** - Creación de una matriz que representa un dígito escrito a mano"
   ]
  },
  {
   "cell_type": "markdown",
   "metadata": {},
   "source": [
    "### Construimos una matriz a mano para representar un dígito\n",
    "\n",
    "Creamos una matriz de 28x28 que represente un dígito escrito a mano\n",
    "\n",
    "Podemos usar valores entre 0 y 1, pero en este ejemplo solo se usaron valores cerrados, para no perder la organización y hacer más fácil la visualización, se trata del número `1`."
   ]
  },
  {
   "cell_type": "code",
   "execution_count": 12,
   "metadata": {},
   "outputs": [],
   "source": [
    "x = np.array([\n",
    "    [0, 0, 0, 0, 0, 0, 0, 0, 0, 0, 0, 0, 0, 0, 0, 0, 0, 0, 0, 0, 0, 0, 0, 0, 0, 0, 0, 0],\n",
    "    [0, 0, 0, 0, 0, 0, 0, 0, 0, 0, 0, 0, 1, 1, 0, 0, 0, 0, 0, 0, 0, 0, 0, 0, 0, 0, 0, 0],\n",
    "    [0, 0, 0, 0, 0, 0, 0, 0, 0, 0, 0, 1, 1, 1, 1, 1, 0, 0, 0, 0, 0, 0, 0, 0, 0, 0, 0, 0],\n",
    "    [0, 0, 0, 0, 0, 0, 0, 0, 0, 0, 1, 1, 0, 1, 1, 0, 0, 0, 0, 0, 0, 0, 0, 0, 0, 0, 0, 0],\n",
    "    [0, 0, 0, 0, 0, 0, 0, 0, 0, 1, 1, 0, 0, 1, 1, 1, 0, 0, 0, 0, 0, 0, 0, 0, 0, 0, 0, 0],\n",
    "    [0, 0, 0, 0, 0, 0, 0, 0, 0, 1, 0, 0, 0, 1, 1, 0, 0, 0, 0, 0, 0, 0, 0, 0, 0, 0, 0, 0],\n",
    "    [0, 0, 0, 0, 0, 0, 0, 0, 0, 0, 0, 0, 0, 1, 1, 0, 0, 0, 0, 0, 0, 0, 0, 0, 0, 0, 0, 0],\n",
    "    [0, 0, 0, 0, 0, 0, 0, 0, 0, 0, 0, 0, 0, 0, 1, 1, 0, 0, 0, 0, 0, 0, 0, 0, 0, 0, 0, 0],\n",
    "    [0, 0, 0, 0, 0, 0, 0, 0, 0, 0, 0, 0, 0, 0, 1, 0, 0, 0, 0, 0, 0, 0, 0, 0, 0, 0, 0, 0],\n",
    "    [0, 0, 0, 0, 0, 0, 0, 0, 0, 0, 0, 0, 0, 0, 1, 0, 0, 0, 0, 0, 0, 0, 0, 0, 0, 0, 0, 0],\n",
    "    [0, 0, 0, 0, 0, 0, 0, 0, 0, 0, 0, 0, 0, 0, 1, 1, 0, 0, 0, 0, 0, 0, 0, 0, 0, 0, 0, 0],\n",
    "    [0, 0, 0, 0, 0, 0, 0, 0, 0, 0, 0, 0, 0, 1, 1, 0, 0, 0, 0, 0, 0, 0, 0, 0, 0, 0, 0, 0],\n",
    "    [0, 0, 0, 0, 0, 0, 0, 0, 0, 0, 0, 0, 0, 0, 1, 0, 0, 0, 0, 0, 0, 0, 0, 0, 0, 0, 0, 0],\n",
    "    [0, 0, 0, 0, 0, 0, 0, 0, 0, 0, 0, 0, 0, 1, 1, 1, 0, 0, 0, 0, 0, 0, 0, 0, 0, 0, 0, 0],\n",
    "    [0, 0, 0, 0, 0, 0, 0, 0, 0, 0, 0, 0, 0, 0, 1, 0, 0, 0, 0, 0, 0, 0, 0, 0, 0, 0, 0, 0],\n",
    "    [0, 0, 0, 0, 0, 0, 0, 0, 0, 0, 0, 0, 0, 1, 1, 1, 0, 0, 0, 0, 0, 0, 0, 0, 0, 0, 0, 0],\n",
    "    [0, 0, 0, 0, 0, 0, 0, 0, 0, 0, 0, 0, 0, 0, 1, 1, 0, 0, 0, 0, 0, 0, 0, 0, 0, 0, 0, 0],\n",
    "    [0, 0, 0, 0, 0, 0, 0, 0, 0, 0, 0, 0, 0, 1, 1, 0, 0, 0, 0, 0, 0, 0, 0, 0, 0, 0, 0, 0],\n",
    "    [0, 0, 0, 0, 0, 0, 0, 0, 0, 0, 0, 0, 0, 1, 1, 0, 0, 0, 0, 0, 0, 0, 0, 0, 0, 0, 0, 0],\n",
    "    [0, 0, 0, 0, 0, 0, 0, 0, 0, 0, 0, 0, 0, 1, 1, 1, 0, 0, 0, 0, 0, 0, 0, 0, 0, 0, 0, 0],\n",
    "    [0, 0, 0, 0, 0, 0, 0, 0, 0, 0, 0, 0, 0, 0, 1, 1, 1, 0, 0, 0, 0, 0, 0, 0, 0, 0, 0, 0],\n",
    "    [0, 0, 0, 0, 0, 0, 0, 0, 0, 0, 0, 1, 1, 1, 1, 1, 1, 1, 0, 0, 0, 0, 0, 0, 0, 0, 0, 0],\n",
    "    [0, 0, 0, 0, 0, 0, 0, 0, 0, 0, 1, 1, 1, 1, 1, 1, 1, 1, 1, 0, 0, 0, 0, 0, 0, 0, 0, 0],\n",
    "    [0, 0, 0, 0, 0, 0, 0, 0, 0, 0, 0, 0, 0, 0, 0, 0, 0, 0, 0, 0, 0, 0, 0, 0, 0, 0, 0, 0],\n",
    "    [0, 0, 0, 0, 0, 0, 0, 0, 0, 0, 0, 0, 0, 0, 0, 0, 0, 0, 0, 0, 0, 0, 0, 0, 0, 0, 0, 0],\n",
    "    [0, 0, 0, 0, 0, 0, 0, 0, 0, 0, 0, 0, 0, 0, 0, 0, 0, 0, 0, 0, 0, 0, 0, 0, 0, 0, 0, 0],\n",
    "    [0, 0, 0, 0, 0, 0, 0, 0, 0, 0, 0, 0, 0, 0, 0, 0, 0, 0, 0, 0, 0, 0, 0, 0, 0, 0, 0, 0],\n",
    "    [0, 0, 0, 0, 0, 0, 0, 0, 0, 0, 0, 0, 0, 0, 0, 0, 0, 0, 0, 0, 0, 0, 0, 0, 0, 0, 0, 0]\n",
    "])"
   ]
  },
  {
   "cell_type": "markdown",
   "metadata": {},
   "source": [
    "### Mostramos la matriz del dígito escrito a mano\n",
    "\n",
    "Mostramos la imagen del dígito que escribimos a mano.\n",
    "\n",
    "**NOTA:** No se usó la escala de grises, por eso sale en esos colores."
   ]
  },
  {
   "cell_type": "code",
   "execution_count": 13,
   "metadata": {},
   "outputs": [
    {
     "data": {
      "image/png": "[encoded data removed]",
      "text/plain": [
       "<Figure size 640x480 with 1 Axes>"
      ]
     },
     "metadata": {},
     "output_type": "display_data"
    }
   ],
   "source": [
    "plt.imshow(x)\n",
    "plt.show()"
   ]
  },
  {
   "cell_type": "markdown",
   "metadata": {},
   "source": [
    "### Transformamos la matriz del dígito escrito a mano para predecir cuál es\n",
    "\n",
    "Transformamos la matriz del dígito escrito a mano de `28x28` a la matriz de `28x28x1`.\n",
    "\n",
    "Observa que ya no es necesario dividir por `255` ya que los valores ya están entre 0 y 1."
   ]
  },
  {
   "cell_type": "code",
   "execution_count": 14,
   "metadata": {},
   "outputs": [
    {
     "name": "stdout",
     "output_type": "stream",
     "text": [
      "(28, 28, 1)\n",
      "1/1 [==============================] - 0s 15ms/step\n",
      "Dígito encontrado => 2\n"
     ]
    }
   ],
   "source": [
    "# Convetimos `x` (matriz de 28x28) en una matriz de 28x28x1\n",
    "xi = np.expand_dims(x.astype(\"float32\"), -1)\n",
    "\n",
    "print(xi.shape) # (28, 28, 1)\n",
    "\n",
    "# Formamos la matriz de predicción con una sola muestra (`xi`)\n",
    "x_predict = np.array([xi])\n",
    "\n",
    "# Predecimos el valor de esa muestra (categoría del dígito)\n",
    "y_predict = model2.predict(x_predict) # [0, 0, 0, 0, 0, 0, 0, 1, 0, 0]\n",
    "\n",
    "# Recuperamos el valor numérico de la categoría (7)\n",
    "digit = np.argmax(y_predict, axis=None, out=None) # 7\n",
    "\n",
    "print(\"Dígito encontrado =>\", digit) # No es el 1 :( pero estuvimos cerca"
   ]
  },
  {
   "cell_type": "markdown",
   "metadata": {},
   "source": [
    "**Nota:** En un entrenamiento con 5 épocas se obtuvo el `99%` de precisión, y si logra identificar que es `1` en lugar de `7`."
   ]
  },
  {
   "cell_type": "markdown",
   "metadata": {},
   "source": [
    "## **Fase 6** - Crear una aplicación para dibujar dígitos escritos a mano y reconocerlos"
   ]
  },
  {
   "cell_type": "markdown",
   "metadata": {},
   "source": [
    "### Generamos una aplicación de Tkinter\n",
    "\n",
    "Usamos Tkinter para generar una pequeña aplicación dónde podremos dibujar un dígito e identificarlo con nuestra red neuronal."
   ]
  },
  {
   "cell_type": "markdown",
   "metadata": {},
   "source": [
    "### Instalamos la librería de Tkinter para crear aplicaciones de escritorio"
   ]
  },
  {
   "cell_type": "code",
   "execution_count": 15,
   "metadata": {},
   "outputs": [],
   "source": [
    "# ! pip install tk"
   ]
  },
  {
   "cell_type": "markdown",
   "metadata": {},
   "source": [
    "### Instalamos la librería de Pillow para procesar imágenes"
   ]
  },
  {
   "cell_type": "code",
   "execution_count": 16,
   "metadata": {},
   "outputs": [],
   "source": [
    "# ! pip install pillow"
   ]
  },
  {
   "cell_type": "markdown",
   "metadata": {},
   "source": [
    "### Instalamos Ghostscript para traducir lo dibujado a una imagen\n",
    "\n",
    "Necesitamos descargar el programa de `Ghostscript` para poder convertir nuestro dibujo hecho a mano en Tkinter a una imagen PNG con Pillow.\n",
    "\n",
    "[https://ghostscript.com/index.html](https://ghostscript.com/index.html)\n",
    "\n",
    "En la instalación usamos el directorio `D:\\gs\\gs10.01.2` para dejar ahí la instalación.\n"
   ]
  },
  {
   "cell_type": "code",
   "execution_count": 17,
   "metadata": {},
   "outputs": [
    {
     "name": "stdout",
     "output_type": "stream",
     "text": [
      "Identificando imagen...\n",
      "Obteniendo imagen...\n",
      "Imagen lista :)\n",
      "Escalando imagen a 28x28...\n",
      "Imagen escalada a 28x28\n",
      "Convirtiendo imagen a una matriz de numpy...\n",
      "Imagen convertida a matriz de 28x28\n",
      "(28, 28)\n",
      "Mostrando imagen del dígito...\n"
     ]
    },
    {
     "data": {
      "image/png": "[encoded data removed]",
      "text/plain": [
       "<Figure size 640x480 with 1 Axes>"
      ]
     },
     "metadata": {},
     "output_type": "display_data"
    },
    {
     "name": "stdout",
     "output_type": "stream",
     "text": [
      "Imagen mostrada :O\n",
      "Ajustando matriz de 28x28 a 28x28x1...\n",
      "Matriz de 28x28 convertida a matriz de 28x28x1\n",
      "(28, 28, 1)\n",
      "1/1 [==============================] - 0s 43ms/step\n",
      "Dígito encontrado => 9\n",
      "Identificando imagen...\n",
      "Obteniendo imagen...\n",
      "Imagen lista :)\n",
      "Escalando imagen a 28x28...\n",
      "Imagen escalada a 28x28\n",
      "Convirtiendo imagen a una matriz de numpy...\n",
      "Imagen convertida a matriz de 28x28\n",
      "(28, 28)\n",
      "Mostrando imagen del dígito...\n"
     ]
    },
    {
     "data": {
      "image/png": "[encoded data removed]",
      "text/plain": [
       "<Figure size 640x480 with 1 Axes>"
      ]
     },
     "metadata": {},
     "output_type": "display_data"
    },
    {
     "name": "stdout",
     "output_type": "stream",
     "text": [
      "Imagen mostrada :O\n",
      "Ajustando matriz de 28x28 a 28x28x1...\n",
      "Matriz de 28x28 convertida a matriz de 28x28x1\n",
      "(28, 28, 1)\n",
      "1/1 [==============================] - 0s 44ms/step\n",
      "Dígito encontrado => 8\n",
      "Identificando imagen...\n",
      "Obteniendo imagen...\n",
      "Imagen lista :)\n",
      "Escalando imagen a 28x28...\n",
      "Imagen escalada a 28x28\n",
      "Convirtiendo imagen a una matriz de numpy...\n",
      "Imagen convertida a matriz de 28x28\n",
      "(28, 28)\n",
      "Mostrando imagen del dígito...\n"
     ]
    },
    {
     "data": {
      "image/png": "[encoded data removed]",
      "text/plain": [
       "<Figure size 640x480 with 1 Axes>"
      ]
     },
     "metadata": {},
     "output_type": "display_data"
    },
    {
     "name": "stdout",
     "output_type": "stream",
     "text": [
      "Imagen mostrada :O\n",
      "Ajustando matriz de 28x28 a 28x28x1...\n",
      "Matriz de 28x28 convertida a matriz de 28x28x1\n",
      "(28, 28, 1)\n",
      "1/1 [==============================] - 0s 41ms/step\n",
      "Dígito encontrado => 8\n",
      "Identificando imagen...\n",
      "Obteniendo imagen...\n",
      "Imagen lista :)\n",
      "Escalando imagen a 28x28...\n",
      "Imagen escalada a 28x28\n",
      "Convirtiendo imagen a una matriz de numpy...\n",
      "Imagen convertida a matriz de 28x28\n",
      "(28, 28)\n",
      "Mostrando imagen del dígito...\n"
     ]
    },
    {
     "data": {
      "image/png": "[encoded data removed]",
      "text/plain": [
       "<Figure size 640x480 with 1 Axes>"
      ]
     },
     "metadata": {},
     "output_type": "display_data"
    },
    {
     "name": "stdout",
     "output_type": "stream",
     "text": [
      "Imagen mostrada :O\n",
      "Ajustando matriz de 28x28 a 28x28x1...\n",
      "Matriz de 28x28 convertida a matriz de 28x28x1\n",
      "(28, 28, 1)\n",
      "WARNING:tensorflow:5 out of the last 6 calls to <function Model.make_predict_function.<locals>.predict_function at 0x7f19cdd8da20> triggered tf.function retracing. Tracing is expensive and the excessive number of tracings could be due to (1) creating @tf.function repeatedly in a loop, (2) passing tensors with different shapes, (3) passing Python objects instead of tensors. For (1), please define your @tf.function outside of the loop. For (2), @tf.function has reduce_retracing=True option that can avoid unnecessary retracing. For (3), please refer to https://www.tensorflow.org/guide/function#controlling_retracing and https://www.tensorflow.org/api_docs/python/tf/function for  more details.\n"
     ]
    },
    {
     "name": "stderr",
     "output_type": "stream",
     "text": [
      "WARNING:tensorflow:5 out of the last 6 calls to <function Model.make_predict_function.<locals>.predict_function at 0x7f19cdd8da20> triggered tf.function retracing. Tracing is expensive and the excessive number of tracings could be due to (1) creating @tf.function repeatedly in a loop, (2) passing tensors with different shapes, (3) passing Python objects instead of tensors. For (1), please define your @tf.function outside of the loop. For (2), @tf.function has reduce_retracing=True option that can avoid unnecessary retracing. For (3), please refer to https://www.tensorflow.org/guide/function#controlling_retracing and https://www.tensorflow.org/api_docs/python/tf/function for  more details.\n"
     ]
    },
    {
     "name": "stdout",
     "output_type": "stream",
     "text": [
      "1/1 [==============================] - 0s 43ms/step\n",
      "Dígito encontrado => 2\n",
      "Identificando imagen...\n",
      "Obteniendo imagen...\n",
      "Imagen lista :)\n",
      "Escalando imagen a 28x28...\n",
      "Imagen escalada a 28x28\n",
      "Convirtiendo imagen a una matriz de numpy...\n",
      "Imagen convertida a matriz de 28x28\n",
      "(28, 28)\n",
      "Mostrando imagen del dígito...\n"
     ]
    },
    {
     "data": {
      "image/png": "[encoded data removed]",
      "text/plain": [
       "<Figure size 640x480 with 1 Axes>"
      ]
     },
     "metadata": {},
     "output_type": "display_data"
    },
    {
     "name": "stdout",
     "output_type": "stream",
     "text": [
      "Imagen mostrada :O\n",
      "Ajustando matriz de 28x28 a 28x28x1...\n",
      "Matriz de 28x28 convertida a matriz de 28x28x1\n",
      "(28, 28, 1)\n",
      "WARNING:tensorflow:6 out of the last 7 calls to <function Model.make_predict_function.<locals>.predict_function at 0x7f19cddadcf0> triggered tf.function retracing. Tracing is expensive and the excessive number of tracings could be due to (1) creating @tf.function repeatedly in a loop, (2) passing tensors with different shapes, (3) passing Python objects instead of tensors. For (1), please define your @tf.function outside of the loop. For (2), @tf.function has reduce_retracing=True option that can avoid unnecessary retracing. For (3), please refer to https://www.tensorflow.org/guide/function#controlling_retracing and https://www.tensorflow.org/api_docs/python/tf/function for  more details.\n"
     ]
    },
    {
     "name": "stderr",
     "output_type": "stream",
     "text": [
      "WARNING:tensorflow:6 out of the last 7 calls to <function Model.make_predict_function.<locals>.predict_function at 0x7f19cddadcf0> triggered tf.function retracing. Tracing is expensive and the excessive number of tracings could be due to (1) creating @tf.function repeatedly in a loop, (2) passing tensors with different shapes, (3) passing Python objects instead of tensors. For (1), please define your @tf.function outside of the loop. For (2), @tf.function has reduce_retracing=True option that can avoid unnecessary retracing. For (3), please refer to https://www.tensorflow.org/guide/function#controlling_retracing and https://www.tensorflow.org/api_docs/python/tf/function for  more details.\n"
     ]
    },
    {
     "name": "stdout",
     "output_type": "stream",
     "text": [
      "1/1 [==============================] - 0s 42ms/step\n",
      "Dígito encontrado => 6\n"
     ]
    }
   ],
   "source": [
    "#\n",
    "# ==================================================================================\n",
    "#    Aplicación de Tkinter para reconocimiento de dígitos escritos a mano\n",
    "#    Usando Redes Neuronales Convolucionales (CNN - Convolutional Neural Network)\n",
    "# ==================================================================================\n",
    "#\n",
    "# Instituto Politécnico Nacional\n",
    "# Centro de Investigación en Computación\n",
    "#\n",
    "# Curso de Machine Learning (Julio de 2023)\n",
    "#\n",
    "# Profesor: Alan Badillo Salas\n",
    "# Correo: alan@nomadacode.com\n",
    "#\n",
    "\n",
    "# Importamos todos los componentes de Tkinter\n",
    "from tkinter import *\n",
    "\n",
    "# Definimos las variables globales que estaremos utilizando\n",
    "\n",
    "# Retiene la aplicación de Tkinter\n",
    "app = None\n",
    "# Retiene el componente Canvas sobre el que dibujaremos\n",
    "canvas = None\n",
    "\n",
    "# Retiene la imagen dibujada en el Canvas\n",
    "image = None\n",
    "\n",
    "# Retiene el identificador de la línea dibujada\n",
    "line = None\n",
    "# Retiene los puntos dibujados\n",
    "line_points = []\n",
    "\n",
    "# Crea una aplicación de Tkinter\n",
    "def create_app():\n",
    "    # Permite modificar la variable global `app`\n",
    "    global app\n",
    "\n",
    "    # Crea una nueva aplicación de Tkinter\n",
    "    app = Tk()\n",
    "\n",
    "    # Manda a crear el Canvas\n",
    "    create_canvas()\n",
    "    # Manda a crear los botones\n",
    "    create_buttons()\n",
    "\n",
    "    # Retiene la aplicación hasta que se cierre\n",
    "    app.mainloop()\n",
    "\n",
    "# Construye los botones\n",
    "def create_buttons():\n",
    "    # Crea el botón identificar que llamará a la función `digit_identifier` al ser pulsado\n",
    "    image_get_button = Button(app, text=\"Identificar\", command=digit_identifier)\n",
    "    image_get_button.pack(pady=20)\n",
    "    \n",
    "    # Crea el botón guardar que llamará a la función `image_save` al ser pulsado\n",
    "    image_save_button = Button(app, text=\"Guardar\", command=image_save)\n",
    "    image_save_button.pack(pady=20)\n",
    "\n",
    "    # Crea el botón borrar que llamará a la función `canvas_clear` al ser pulsado\n",
    "    canvas_clear_button = Button(app, text=\"Borrar\", command=canvas_clear)\n",
    "    canvas_clear_button.pack(pady=20)\n",
    "\n",
    "# Crea el Canvas sobre la aplicación\n",
    "def create_canvas():\n",
    "    # Permite modificar la variable global `canvas`\n",
    "    global canvas\n",
    "    \n",
    "    # Crea un Canvas de 280x280 pixeles\n",
    "    canvas = Canvas(app, width=280, height=280, bg=\"white\")\n",
    "    # Hace la construcción\n",
    "    canvas.pack()\n",
    "\n",
    "    # Enlaza el evento de clic al botón principal del mouse y llama a la función `draw_start`\n",
    "    canvas.bind('<Button-1>', draw_start)\n",
    "    # Enlaza el evento de cuando se mueve el mouse y llama a la función `draw_line`\n",
    "    canvas.bind('<B1-Motion>', draw_line)\n",
    "    # Enlaza el evento de liberación de clic al botón principal del mouse y llama a la función `draw_end`\n",
    "    canvas.bind('<ButtonRelease-1>', draw_end)\n",
    "\n",
    "# Borra el dibujo del Canvas\n",
    "def canvas_clear():\n",
    "    canvas.delete(\"all\")\n",
    "\n",
    "# Agrega el primer punto a la lista de puntos (tomado del mouse)\n",
    "# Este se manda a llamar cuando pulsamos clic\n",
    "def draw_start(event):\n",
    "    line_points.extend((event.x, event.y))\n",
    "\n",
    "# Dibuja el siguiente punto mientras se mueva el mouse\n",
    "def draw_line(event):\n",
    "    # Permite modificar la variable global `line`\n",
    "    global line\n",
    "    \n",
    "    # Agrega el siguiente punto a la lista (extraído del mouse)\n",
    "    line_points.extend((event.x, event.y))\n",
    "\n",
    "    # Si la línea está creada (no es None)\n",
    "    if line is not None:\n",
    "        # Elimina la línea del canvas para no repetirla\n",
    "        canvas.delete(line)\n",
    "\n",
    "    # Crea líneas que unen todos nuestros puentos con grosor 12 en color negro\n",
    "    line = canvas.create_line(line_points, width=12, fill=\"black\")\n",
    "\n",
    "# Termina el dibujo sobre el Canvas\n",
    "# Este se manda a llamar cuándo dejamos de pulsar clic\n",
    "def draw_end(event=None):\n",
    "    # Permite modificar la variable global `line`\n",
    "    global line\n",
    "\n",
    "    # Limpia la última línea\n",
    "    line = None\n",
    "    # Limpia los puntos dibujados (ya quedaron sobre el Canvas dibujados)\n",
    "    line_points.clear()    \n",
    "\n",
    "# Obtiene la imagen PNG desde el Canvas\n",
    "def image_get():\n",
    "    # Permite modificar la variable global `image`\n",
    "    global image\n",
    "\n",
    "    print(\"Obteniendo imagen...\")\n",
    "\n",
    "    # Importamos los componentes de la librería Pillow\n",
    "    from PIL import Image\n",
    "    from PIL import EpsImagePlugin\n",
    "    import io\n",
    "    \n",
    "    # Establecemos dónde está nuestro traductor `Ghostscript`\n",
    "    EpsImagePlugin.gs_windows_binary =  r\"/usr/bin/gs\"\n",
    "\n",
    "    # Actualizamos el Canvas\n",
    "    canvas.update()\n",
    "    \n",
    "    # Recuperamos el dibujo sobre el cambas en formato `postscript`\n",
    "    ps = canvas.postscript()\n",
    "\n",
    "    # Traducimos el dibujo a una imagen de `Pillow`\n",
    "    image = Image.open(io.BytesIO(ps.encode(\"utf-8\")))\n",
    "\n",
    "    print(\"Imagen lista :)\")\n",
    "\n",
    "# Guarda la imagen en un archivo llamado `imagen.png`\n",
    "def image_save():\n",
    "    print(\"Guardando imagen...\")\n",
    "\n",
    "    # Recupera la imagen del Canvas\n",
    "    image_get()\n",
    "    # Guarda la imagen en el archivo `imagen.png`\n",
    "    image.save(\"imagen.png\", \"png\")\n",
    "    \n",
    "    print(\"Imagen guardada :D\")\n",
    "\n",
    "# Muestra la imagen de un dígito desde su matriz de 28x28\n",
    "def show_digit(x):\n",
    "    # Importamos pyplot de la librería Matplolib\n",
    "    import matplotlib.pyplot as plt\n",
    "\n",
    "    # Mostramos la imagen del dígito en escala de grises\n",
    "    plt.imshow(x, cmap=plt.get_cmap('gray'))\n",
    "    plt.show()\n",
    "\n",
    "# Identificamos el dígito dibujado en el Canvas\n",
    "def digit_identifier():\n",
    "    print(\"Identificando imagen...\")\n",
    "\n",
    "    # Recuperamos la imagen del dígito dibujado\n",
    "    image_get()\n",
    "\n",
    "    print(\"Escalando imagen a 28x28...\")\n",
    "    \n",
    "    # Importamos Image de Pillow\n",
    "    from PIL import Image\n",
    "\n",
    "    # Obtenemos la imagen escalada a 28x28 pixeles (la original es de 280x280)\n",
    "    # En escala de grises (un solo canal de color `L`)\n",
    "    image_scaled = image.resize((28, 28), Image.LANCZOS).convert(\"L\")\n",
    "\n",
    "    print(\"Imagen escalada a 28x28\")\n",
    "\n",
    "    print(\"Convirtiendo imagen a una matriz de numpy...\")\n",
    "\n",
    "    # Importamos numpy para convertir la imagen a una matriz\n",
    "    import numpy as np\n",
    "\n",
    "    # Convertimos la imagen escalada de 28x28 a una matriz de 28x28\n",
    "    # Invertimos el color de blanco a negro (pintamos en negro y es al revés)\n",
    "    x = 255 - np.array(image_scaled)\n",
    "\n",
    "    print(\"Imagen convertida a matriz de 28x28\")\n",
    "\n",
    "    print(x.shape) # (28, 28)\n",
    "\n",
    "    print(\"Mostrando imagen del dígito...\")\n",
    "\n",
    "    # Mostramos el dígito dibujado desde su matriz\n",
    "    show_digit(x)\n",
    "\n",
    "    print(\"Imagen mostrada :O\")\n",
    "\n",
    "    print(\"Ajustando matriz de 28x28 a 28x28x1...\")\n",
    "\n",
    "    # Reconstruimos la matriz expandida y normalizada a valores de 0 a 1 (en lugar de 0 a 255)\n",
    "    xi = np.expand_dims(x.astype(\"float32\") / 255, -1)\n",
    "\n",
    "    print(\"Matriz de 28x28 convertida a matriz de 28x28x1\")\n",
    "\n",
    "    print(xi.shape) # (28, 28, 1)\n",
    "\n",
    "    # Importamos el modelo de la red neuronal ya entrenada para reconocer dígitos escritos a mano\n",
    "    model = keras.models.load_model(\"digits_net_model\")\n",
    "\n",
    "    # Cargamos los pesos de entrenamiento (los que ya se ajustaron y guardaron tras el entrenamiento)\n",
    "    model.load_weights(\"digit_net_weights\")\n",
    "\n",
    "    # Creamos la matriz de predicción con una sola muestra\n",
    "    x_predict = np.array([xi])\n",
    "\n",
    "    # Obtenemos el valor de predicción de nuestro dígito escrito a mano\n",
    "    y_predict = model.predict(x_predict)\n",
    "\n",
    "    # Obtenemos la categoría del dígito en su valor numérico (no la matriz de 10 categorías)\n",
    "    digit = np.argmax(y_predict, axis=None, out=None)\n",
    "\n",
    "    # Imprimimos qué dígito fue encontrado\n",
    "    print(\"Dígito encontrado =>\", digit)\n",
    "\n",
    "# Mandamos a contruir la aplicación\n",
    "create_app()"
   ]
  }
 ],
 "metadata": {
  "kernelspec": {
   "display_name": "Python 3 (ipykernel)",
   "language": "python",
   "name": "python3"
  },
  "language_info": {
   "codemirror_mode": {
    "name": "ipython",
    "version": 3
   },
   "file_extension": ".py",
   "mimetype": "text/x-python",
   "name": "python",
   "nbconvert_exporter": "python",
   "pygments_lexer": "ipython3",
   "version": "3.10.6"
  }
 },
 "nbformat": 4,
 "nbformat_minor": 4
}
